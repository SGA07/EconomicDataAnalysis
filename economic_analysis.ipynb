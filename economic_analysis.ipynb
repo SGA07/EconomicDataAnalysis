{
  "metadata": {
    "kernelspec": {
      "language": "python",
      "display_name": "Python 3",
      "name": "python3"
    },
    "language_info": {
      "pygments_lexer": "ipython3",
      "nbconvert_exporter": "python",
      "version": "3.6.4",
      "file_extension": ".py",
      "codemirror_mode": {
        "name": "ipython",
        "version": 3
      },
      "name": "python",
      "mimetype": "text/x-python"
    },
    "kaggle": {
      "accelerator": "none",
      "dataSources": [],
      "dockerImageVersionId": 30178,
      "isInternetEnabled": false,
      "language": "python",
      "sourceType": "notebook",
      "isGpuEnabled": false
    },
    "colab": {
      "provenance": []
    }
  },
  "nbformat_minor": 0,
  "nbformat": 4,
  "cells": [
    {
      "cell_type": "code",
      "source": [
        "!pip install fredapi > /dev/null"
      ],
      "metadata": {
        "execution": {
          "iopub.status.busy": "2022-10-20T14:23:46.814038Z",
          "iopub.execute_input": "2022-10-20T14:23:46.814691Z",
          "iopub.status.idle": "2022-10-20T14:23:59.644706Z",
          "shell.execute_reply.started": "2022-10-20T14:23:46.814566Z",
          "shell.execute_reply": "2022-10-20T14:23:59.643914Z"
        },
        "trusted": true,
        "id": "CWGZ2_iJgqtt"
      },
      "execution_count": 2,
      "outputs": []
    },
    {
      "cell_type": "code",
      "source": [
        "import pandas as pd\n",
        "import numpy as np\n",
        "import matplotlib.pyplot as plt\n",
        "import plotly.express as px\n",
        "import time\n",
        "\n",
        "plt.style.use('fivethirtyeight')\n",
        "#pd.set_option('max_columns', 500)\n",
        "color_pal = plt.rcParams[\"axes.prop_cycle\"].by_key()[\"color\"]\n",
        "\n",
        "from fredapi import Fred\n",
        "\n",
        "fred_key = ''\n"
      ],
      "metadata": {
        "execution": {
          "iopub.status.busy": "2022-10-20T14:24:09.589299Z",
          "iopub.execute_input": "2022-10-20T14:24:09.589657Z",
          "iopub.status.idle": "2022-10-20T14:24:11.319114Z",
          "shell.execute_reply.started": "2022-10-20T14:24:09.589616Z",
          "shell.execute_reply": "2022-10-20T14:24:11.318126Z"
        },
        "trusted": true,
        "id": "hHsYuIkLgqtu"
      },
      "execution_count": 7,
      "outputs": []
    },
    {
      "cell_type": "markdown",
      "source": [
        "# 1. Create The Fred Object"
      ],
      "metadata": {
        "id": "CvENIQ1lgqtv"
      }
    },
    {
      "cell_type": "code",
      "source": [
        "fred = Fred(api_key=fred_key)"
      ],
      "metadata": {
        "execution": {
          "iopub.status.busy": "2022-10-20T14:24:11.320839Z",
          "iopub.execute_input": "2022-10-20T14:24:11.321089Z",
          "iopub.status.idle": "2022-10-20T14:24:11.325676Z",
          "shell.execute_reply.started": "2022-10-20T14:24:11.321059Z",
          "shell.execute_reply": "2022-10-20T14:24:11.324727Z"
        },
        "trusted": true,
        "id": "emp-9DGzgqtv"
      },
      "execution_count": 4,
      "outputs": []
    },
    {
      "cell_type": "markdown",
      "source": [
        "# 2. Search for economic data!"
      ],
      "metadata": {
        "execution": {
          "iopub.status.busy": "2022-04-23T16:09:16.179892Z",
          "iopub.execute_input": "2022-04-23T16:09:16.180208Z",
          "iopub.status.idle": "2022-04-23T16:09:16.186411Z",
          "shell.execute_reply.started": "2022-04-23T16:09:16.180169Z",
          "shell.execute_reply": "2022-04-23T16:09:16.185328Z"
        },
        "id": "KOkjETr4gqtw"
      }
    },
    {
      "cell_type": "code",
      "source": [
        "sp_search = fred.search('S&P', order_by='popularity')"
      ],
      "metadata": {
        "execution": {
          "iopub.status.busy": "2022-10-20T14:24:12.17751Z",
          "iopub.execute_input": "2022-10-20T14:24:12.17785Z",
          "iopub.status.idle": "2022-10-20T14:24:14.932551Z",
          "shell.execute_reply.started": "2022-10-20T14:24:12.177814Z",
          "shell.execute_reply": "2022-10-20T14:24:14.931827Z"
        },
        "trusted": true,
        "id": "RoN-1qxSgqtx"
      },
      "execution_count": 5,
      "outputs": []
    },
    {
      "cell_type": "code",
      "source": [
        "sp_search.head()"
      ],
      "metadata": {
        "execution": {
          "iopub.status.busy": "2022-10-20T14:24:14.934319Z",
          "iopub.execute_input": "2022-10-20T14:24:14.934679Z",
          "iopub.status.idle": "2022-10-20T14:24:14.962769Z",
          "shell.execute_reply.started": "2022-10-20T14:24:14.934636Z",
          "shell.execute_reply": "2022-10-20T14:24:14.961753Z"
        },
        "trusted": true,
        "colab": {
          "base_uri": "https://localhost:8080/",
          "height": 744
        },
        "id": "g5ZOJHV5gqty",
        "outputId": "fb8825ae-247f-4dc8-9122-f60d707acfc2"
      },
      "execution_count": 6,
      "outputs": [
        {
          "output_type": "execute_result",
          "data": {
            "text/plain": [
              "                            id realtime_start realtime_end  \\\n",
              "series id                                                    \n",
              "BAMLH0A0HYM2      BAMLH0A0HYM2     2024-12-01   2024-12-01   \n",
              "CSUSHPINSA          CSUSHPINSA     2024-12-01   2024-12-01   \n",
              "SP500                    SP500     2024-12-01   2024-12-01   \n",
              "BAMLH0A0HYM2EY  BAMLH0A0HYM2EY     2024-12-01   2024-12-01   \n",
              "BAMLC0A0CM          BAMLC0A0CM     2024-12-01   2024-12-01   \n",
              "\n",
              "                                                            title  \\\n",
              "series id                                                           \n",
              "BAMLH0A0HYM2    ICE BofA US High Yield Index Option-Adjusted S...   \n",
              "CSUSHPINSA      S&P CoreLogic Case-Shiller U.S. National Home ...   \n",
              "SP500                                                     S&P 500   \n",
              "BAMLH0A0HYM2EY       ICE BofA US High Yield Index Effective Yield   \n",
              "BAMLC0A0CM      ICE BofA US Corporate Index Option-Adjusted Sp...   \n",
              "\n",
              "               observation_start observation_end     frequency  \\\n",
              "series id                                                        \n",
              "BAMLH0A0HYM2          1996-12-31      2024-11-28  Daily, Close   \n",
              "CSUSHPINSA            1987-01-01      2024-09-01       Monthly   \n",
              "SP500                 2014-12-01      2024-11-29  Daily, Close   \n",
              "BAMLH0A0HYM2EY        1996-12-31      2024-11-28  Daily, Close   \n",
              "BAMLC0A0CM            1996-12-31      2024-11-28  Daily, Close   \n",
              "\n",
              "               frequency_short               units         units_short  \\\n",
              "series id                                                                \n",
              "BAMLH0A0HYM2                 D             Percent                   %   \n",
              "CSUSHPINSA                   M  Index Jan 2000=100  Index Jan 2000=100   \n",
              "SP500                        D               Index               Index   \n",
              "BAMLH0A0HYM2EY               D             Percent                   %   \n",
              "BAMLC0A0CM                   D             Percent                   %   \n",
              "\n",
              "                    seasonal_adjustment seasonal_adjustment_short  \\\n",
              "series id                                                           \n",
              "BAMLH0A0HYM2    Not Seasonally Adjusted                       NSA   \n",
              "CSUSHPINSA      Not Seasonally Adjusted                       NSA   \n",
              "SP500           Not Seasonally Adjusted                       NSA   \n",
              "BAMLH0A0HYM2EY  Not Seasonally Adjusted                       NSA   \n",
              "BAMLC0A0CM      Not Seasonally Adjusted                       NSA   \n",
              "\n",
              "                             last_updated popularity  \\\n",
              "series id                                              \n",
              "BAMLH0A0HYM2    2024-11-29 10:59:06-06:00         92   \n",
              "CSUSHPINSA      2024-11-26 08:12:02-06:00         88   \n",
              "SP500           2024-11-29 19:11:37-06:00         83   \n",
              "BAMLH0A0HYM2EY  2024-11-29 10:59:09-06:00         82   \n",
              "BAMLC0A0CM      2024-11-29 11:06:02-06:00         78   \n",
              "\n",
              "                                                            notes  \n",
              "series id                                                          \n",
              "BAMLH0A0HYM2    The ICE BofA Option-Adjusted Spreads (OASs) ar...  \n",
              "CSUSHPINSA      For more information regarding the index, plea...  \n",
              "SP500           The observations for the S&P 500 represent the...  \n",
              "BAMLH0A0HYM2EY  This data represents the effective yield of th...  \n",
              "BAMLC0A0CM      The ICE BofA Option-Adjusted Spreads (OASs) ar...  "
            ],
            "text/html": [
              "\n",
              "  <div id=\"df-8b54fac3-58bc-402a-af1a-50f57e672b22\" class=\"colab-df-container\">\n",
              "    <div>\n",
              "<style scoped>\n",
              "    .dataframe tbody tr th:only-of-type {\n",
              "        vertical-align: middle;\n",
              "    }\n",
              "\n",
              "    .dataframe tbody tr th {\n",
              "        vertical-align: top;\n",
              "    }\n",
              "\n",
              "    .dataframe thead th {\n",
              "        text-align: right;\n",
              "    }\n",
              "</style>\n",
              "<table border=\"1\" class=\"dataframe\">\n",
              "  <thead>\n",
              "    <tr style=\"text-align: right;\">\n",
              "      <th></th>\n",
              "      <th>id</th>\n",
              "      <th>realtime_start</th>\n",
              "      <th>realtime_end</th>\n",
              "      <th>title</th>\n",
              "      <th>observation_start</th>\n",
              "      <th>observation_end</th>\n",
              "      <th>frequency</th>\n",
              "      <th>frequency_short</th>\n",
              "      <th>units</th>\n",
              "      <th>units_short</th>\n",
              "      <th>seasonal_adjustment</th>\n",
              "      <th>seasonal_adjustment_short</th>\n",
              "      <th>last_updated</th>\n",
              "      <th>popularity</th>\n",
              "      <th>notes</th>\n",
              "    </tr>\n",
              "    <tr>\n",
              "      <th>series id</th>\n",
              "      <th></th>\n",
              "      <th></th>\n",
              "      <th></th>\n",
              "      <th></th>\n",
              "      <th></th>\n",
              "      <th></th>\n",
              "      <th></th>\n",
              "      <th></th>\n",
              "      <th></th>\n",
              "      <th></th>\n",
              "      <th></th>\n",
              "      <th></th>\n",
              "      <th></th>\n",
              "      <th></th>\n",
              "      <th></th>\n",
              "    </tr>\n",
              "  </thead>\n",
              "  <tbody>\n",
              "    <tr>\n",
              "      <th>BAMLH0A0HYM2</th>\n",
              "      <td>BAMLH0A0HYM2</td>\n",
              "      <td>2024-12-01</td>\n",
              "      <td>2024-12-01</td>\n",
              "      <td>ICE BofA US High Yield Index Option-Adjusted S...</td>\n",
              "      <td>1996-12-31</td>\n",
              "      <td>2024-11-28</td>\n",
              "      <td>Daily, Close</td>\n",
              "      <td>D</td>\n",
              "      <td>Percent</td>\n",
              "      <td>%</td>\n",
              "      <td>Not Seasonally Adjusted</td>\n",
              "      <td>NSA</td>\n",
              "      <td>2024-11-29 10:59:06-06:00</td>\n",
              "      <td>92</td>\n",
              "      <td>The ICE BofA Option-Adjusted Spreads (OASs) ar...</td>\n",
              "    </tr>\n",
              "    <tr>\n",
              "      <th>CSUSHPINSA</th>\n",
              "      <td>CSUSHPINSA</td>\n",
              "      <td>2024-12-01</td>\n",
              "      <td>2024-12-01</td>\n",
              "      <td>S&amp;P CoreLogic Case-Shiller U.S. National Home ...</td>\n",
              "      <td>1987-01-01</td>\n",
              "      <td>2024-09-01</td>\n",
              "      <td>Monthly</td>\n",
              "      <td>M</td>\n",
              "      <td>Index Jan 2000=100</td>\n",
              "      <td>Index Jan 2000=100</td>\n",
              "      <td>Not Seasonally Adjusted</td>\n",
              "      <td>NSA</td>\n",
              "      <td>2024-11-26 08:12:02-06:00</td>\n",
              "      <td>88</td>\n",
              "      <td>For more information regarding the index, plea...</td>\n",
              "    </tr>\n",
              "    <tr>\n",
              "      <th>SP500</th>\n",
              "      <td>SP500</td>\n",
              "      <td>2024-12-01</td>\n",
              "      <td>2024-12-01</td>\n",
              "      <td>S&amp;P 500</td>\n",
              "      <td>2014-12-01</td>\n",
              "      <td>2024-11-29</td>\n",
              "      <td>Daily, Close</td>\n",
              "      <td>D</td>\n",
              "      <td>Index</td>\n",
              "      <td>Index</td>\n",
              "      <td>Not Seasonally Adjusted</td>\n",
              "      <td>NSA</td>\n",
              "      <td>2024-11-29 19:11:37-06:00</td>\n",
              "      <td>83</td>\n",
              "      <td>The observations for the S&amp;P 500 represent the...</td>\n",
              "    </tr>\n",
              "    <tr>\n",
              "      <th>BAMLH0A0HYM2EY</th>\n",
              "      <td>BAMLH0A0HYM2EY</td>\n",
              "      <td>2024-12-01</td>\n",
              "      <td>2024-12-01</td>\n",
              "      <td>ICE BofA US High Yield Index Effective Yield</td>\n",
              "      <td>1996-12-31</td>\n",
              "      <td>2024-11-28</td>\n",
              "      <td>Daily, Close</td>\n",
              "      <td>D</td>\n",
              "      <td>Percent</td>\n",
              "      <td>%</td>\n",
              "      <td>Not Seasonally Adjusted</td>\n",
              "      <td>NSA</td>\n",
              "      <td>2024-11-29 10:59:09-06:00</td>\n",
              "      <td>82</td>\n",
              "      <td>This data represents the effective yield of th...</td>\n",
              "    </tr>\n",
              "    <tr>\n",
              "      <th>BAMLC0A0CM</th>\n",
              "      <td>BAMLC0A0CM</td>\n",
              "      <td>2024-12-01</td>\n",
              "      <td>2024-12-01</td>\n",
              "      <td>ICE BofA US Corporate Index Option-Adjusted Sp...</td>\n",
              "      <td>1996-12-31</td>\n",
              "      <td>2024-11-28</td>\n",
              "      <td>Daily, Close</td>\n",
              "      <td>D</td>\n",
              "      <td>Percent</td>\n",
              "      <td>%</td>\n",
              "      <td>Not Seasonally Adjusted</td>\n",
              "      <td>NSA</td>\n",
              "      <td>2024-11-29 11:06:02-06:00</td>\n",
              "      <td>78</td>\n",
              "      <td>The ICE BofA Option-Adjusted Spreads (OASs) ar...</td>\n",
              "    </tr>\n",
              "  </tbody>\n",
              "</table>\n",
              "</div>\n",
              "    <div class=\"colab-df-buttons\">\n",
              "\n",
              "  <div class=\"colab-df-container\">\n",
              "    <button class=\"colab-df-convert\" onclick=\"convertToInteractive('df-8b54fac3-58bc-402a-af1a-50f57e672b22')\"\n",
              "            title=\"Convert this dataframe to an interactive table.\"\n",
              "            style=\"display:none;\">\n",
              "\n",
              "  <svg xmlns=\"http://www.w3.org/2000/svg\" height=\"24px\" viewBox=\"0 -960 960 960\">\n",
              "    <path d=\"M120-120v-720h720v720H120Zm60-500h600v-160H180v160Zm220 220h160v-160H400v160Zm0 220h160v-160H400v160ZM180-400h160v-160H180v160Zm440 0h160v-160H620v160ZM180-180h160v-160H180v160Zm440 0h160v-160H620v160Z\"/>\n",
              "  </svg>\n",
              "    </button>\n",
              "\n",
              "  <style>\n",
              "    .colab-df-container {\n",
              "      display:flex;\n",
              "      gap: 12px;\n",
              "    }\n",
              "\n",
              "    .colab-df-convert {\n",
              "      background-color: #E8F0FE;\n",
              "      border: none;\n",
              "      border-radius: 50%;\n",
              "      cursor: pointer;\n",
              "      display: none;\n",
              "      fill: #1967D2;\n",
              "      height: 32px;\n",
              "      padding: 0 0 0 0;\n",
              "      width: 32px;\n",
              "    }\n",
              "\n",
              "    .colab-df-convert:hover {\n",
              "      background-color: #E2EBFA;\n",
              "      box-shadow: 0px 1px 2px rgba(60, 64, 67, 0.3), 0px 1px 3px 1px rgba(60, 64, 67, 0.15);\n",
              "      fill: #174EA6;\n",
              "    }\n",
              "\n",
              "    .colab-df-buttons div {\n",
              "      margin-bottom: 4px;\n",
              "    }\n",
              "\n",
              "    [theme=dark] .colab-df-convert {\n",
              "      background-color: #3B4455;\n",
              "      fill: #D2E3FC;\n",
              "    }\n",
              "\n",
              "    [theme=dark] .colab-df-convert:hover {\n",
              "      background-color: #434B5C;\n",
              "      box-shadow: 0px 1px 3px 1px rgba(0, 0, 0, 0.15);\n",
              "      filter: drop-shadow(0px 1px 2px rgba(0, 0, 0, 0.3));\n",
              "      fill: #FFFFFF;\n",
              "    }\n",
              "  </style>\n",
              "\n",
              "    <script>\n",
              "      const buttonEl =\n",
              "        document.querySelector('#df-8b54fac3-58bc-402a-af1a-50f57e672b22 button.colab-df-convert');\n",
              "      buttonEl.style.display =\n",
              "        google.colab.kernel.accessAllowed ? 'block' : 'none';\n",
              "\n",
              "      async function convertToInteractive(key) {\n",
              "        const element = document.querySelector('#df-8b54fac3-58bc-402a-af1a-50f57e672b22');\n",
              "        const dataTable =\n",
              "          await google.colab.kernel.invokeFunction('convertToInteractive',\n",
              "                                                    [key], {});\n",
              "        if (!dataTable) return;\n",
              "\n",
              "        const docLinkHtml = 'Like what you see? Visit the ' +\n",
              "          '<a target=\"_blank\" href=https://colab.research.google.com/notebooks/data_table.ipynb>data table notebook</a>'\n",
              "          + ' to learn more about interactive tables.';\n",
              "        element.innerHTML = '';\n",
              "        dataTable['output_type'] = 'display_data';\n",
              "        await google.colab.output.renderOutput(dataTable, element);\n",
              "        const docLink = document.createElement('div');\n",
              "        docLink.innerHTML = docLinkHtml;\n",
              "        element.appendChild(docLink);\n",
              "      }\n",
              "    </script>\n",
              "  </div>\n",
              "\n",
              "\n",
              "<div id=\"df-8f74e74c-0444-41fd-a96d-a6203a0cc9a4\">\n",
              "  <button class=\"colab-df-quickchart\" onclick=\"quickchart('df-8f74e74c-0444-41fd-a96d-a6203a0cc9a4')\"\n",
              "            title=\"Suggest charts\"\n",
              "            style=\"display:none;\">\n",
              "\n",
              "<svg xmlns=\"http://www.w3.org/2000/svg\" height=\"24px\"viewBox=\"0 0 24 24\"\n",
              "     width=\"24px\">\n",
              "    <g>\n",
              "        <path d=\"M19 3H5c-1.1 0-2 .9-2 2v14c0 1.1.9 2 2 2h14c1.1 0 2-.9 2-2V5c0-1.1-.9-2-2-2zM9 17H7v-7h2v7zm4 0h-2V7h2v10zm4 0h-2v-4h2v4z\"/>\n",
              "    </g>\n",
              "</svg>\n",
              "  </button>\n",
              "\n",
              "<style>\n",
              "  .colab-df-quickchart {\n",
              "      --bg-color: #E8F0FE;\n",
              "      --fill-color: #1967D2;\n",
              "      --hover-bg-color: #E2EBFA;\n",
              "      --hover-fill-color: #174EA6;\n",
              "      --disabled-fill-color: #AAA;\n",
              "      --disabled-bg-color: #DDD;\n",
              "  }\n",
              "\n",
              "  [theme=dark] .colab-df-quickchart {\n",
              "      --bg-color: #3B4455;\n",
              "      --fill-color: #D2E3FC;\n",
              "      --hover-bg-color: #434B5C;\n",
              "      --hover-fill-color: #FFFFFF;\n",
              "      --disabled-bg-color: #3B4455;\n",
              "      --disabled-fill-color: #666;\n",
              "  }\n",
              "\n",
              "  .colab-df-quickchart {\n",
              "    background-color: var(--bg-color);\n",
              "    border: none;\n",
              "    border-radius: 50%;\n",
              "    cursor: pointer;\n",
              "    display: none;\n",
              "    fill: var(--fill-color);\n",
              "    height: 32px;\n",
              "    padding: 0;\n",
              "    width: 32px;\n",
              "  }\n",
              "\n",
              "  .colab-df-quickchart:hover {\n",
              "    background-color: var(--hover-bg-color);\n",
              "    box-shadow: 0 1px 2px rgba(60, 64, 67, 0.3), 0 1px 3px 1px rgba(60, 64, 67, 0.15);\n",
              "    fill: var(--button-hover-fill-color);\n",
              "  }\n",
              "\n",
              "  .colab-df-quickchart-complete:disabled,\n",
              "  .colab-df-quickchart-complete:disabled:hover {\n",
              "    background-color: var(--disabled-bg-color);\n",
              "    fill: var(--disabled-fill-color);\n",
              "    box-shadow: none;\n",
              "  }\n",
              "\n",
              "  .colab-df-spinner {\n",
              "    border: 2px solid var(--fill-color);\n",
              "    border-color: transparent;\n",
              "    border-bottom-color: var(--fill-color);\n",
              "    animation:\n",
              "      spin 1s steps(1) infinite;\n",
              "  }\n",
              "\n",
              "  @keyframes spin {\n",
              "    0% {\n",
              "      border-color: transparent;\n",
              "      border-bottom-color: var(--fill-color);\n",
              "      border-left-color: var(--fill-color);\n",
              "    }\n",
              "    20% {\n",
              "      border-color: transparent;\n",
              "      border-left-color: var(--fill-color);\n",
              "      border-top-color: var(--fill-color);\n",
              "    }\n",
              "    30% {\n",
              "      border-color: transparent;\n",
              "      border-left-color: var(--fill-color);\n",
              "      border-top-color: var(--fill-color);\n",
              "      border-right-color: var(--fill-color);\n",
              "    }\n",
              "    40% {\n",
              "      border-color: transparent;\n",
              "      border-right-color: var(--fill-color);\n",
              "      border-top-color: var(--fill-color);\n",
              "    }\n",
              "    60% {\n",
              "      border-color: transparent;\n",
              "      border-right-color: var(--fill-color);\n",
              "    }\n",
              "    80% {\n",
              "      border-color: transparent;\n",
              "      border-right-color: var(--fill-color);\n",
              "      border-bottom-color: var(--fill-color);\n",
              "    }\n",
              "    90% {\n",
              "      border-color: transparent;\n",
              "      border-bottom-color: var(--fill-color);\n",
              "    }\n",
              "  }\n",
              "</style>\n",
              "\n",
              "  <script>\n",
              "    async function quickchart(key) {\n",
              "      const quickchartButtonEl =\n",
              "        document.querySelector('#' + key + ' button');\n",
              "      quickchartButtonEl.disabled = true;  // To prevent multiple clicks.\n",
              "      quickchartButtonEl.classList.add('colab-df-spinner');\n",
              "      try {\n",
              "        const charts = await google.colab.kernel.invokeFunction(\n",
              "            'suggestCharts', [key], {});\n",
              "      } catch (error) {\n",
              "        console.error('Error during call to suggestCharts:', error);\n",
              "      }\n",
              "      quickchartButtonEl.classList.remove('colab-df-spinner');\n",
              "      quickchartButtonEl.classList.add('colab-df-quickchart-complete');\n",
              "    }\n",
              "    (() => {\n",
              "      let quickchartButtonEl =\n",
              "        document.querySelector('#df-8f74e74c-0444-41fd-a96d-a6203a0cc9a4 button');\n",
              "      quickchartButtonEl.style.display =\n",
              "        google.colab.kernel.accessAllowed ? 'block' : 'none';\n",
              "    })();\n",
              "  </script>\n",
              "</div>\n",
              "\n",
              "    </div>\n",
              "  </div>\n"
            ],
            "application/vnd.google.colaboratory.intrinsic+json": {
              "type": "dataframe",
              "variable_name": "sp_search",
              "summary": "{\n  \"name\": \"sp_search\",\n  \"rows\": 1000,\n  \"fields\": [\n    {\n      \"column\": \"series id\",\n      \"properties\": {\n        \"dtype\": \"string\",\n        \"num_unique_values\": 1000,\n        \"samples\": [\n          \"RTFPNAUYA632NRUG\",\n          \"HC01ESTVC1712095\",\n          \"M01042USM547NNBR\"\n        ],\n        \"semantic_type\": \"\",\n        \"description\": \"\"\n      }\n    },\n    {\n      \"column\": \"id\",\n      \"properties\": {\n        \"dtype\": \"string\",\n        \"num_unique_values\": 1000,\n        \"samples\": [\n          \"RTFPNAUYA632NRUG\",\n          \"HC01ESTVC1712095\",\n          \"M01042USM547NNBR\"\n        ],\n        \"semantic_type\": \"\",\n        \"description\": \"\"\n      }\n    },\n    {\n      \"column\": \"realtime_start\",\n      \"properties\": {\n        \"dtype\": \"date\",\n        \"min\": \"2024-12-01 00:00:00\",\n        \"max\": \"2024-12-01 00:00:00\",\n        \"num_unique_values\": 1,\n        \"samples\": [\n          \"2024-12-01 00:00:00\"\n        ],\n        \"semantic_type\": \"\",\n        \"description\": \"\"\n      }\n    },\n    {\n      \"column\": \"realtime_end\",\n      \"properties\": {\n        \"dtype\": \"date\",\n        \"min\": \"2024-12-01 00:00:00\",\n        \"max\": \"2024-12-01 00:00:00\",\n        \"num_unique_values\": 1,\n        \"samples\": [\n          \"2024-12-01 00:00:00\"\n        ],\n        \"semantic_type\": \"\",\n        \"description\": \"\"\n      }\n    },\n    {\n      \"column\": \"title\",\n      \"properties\": {\n        \"dtype\": \"string\",\n        \"num_unique_values\": 953,\n        \"samples\": [\n          \"Real GDP at Constant National Prices for New Zealand\"\n        ],\n        \"semantic_type\": \"\",\n        \"description\": \"\"\n      }\n    },\n    {\n      \"column\": \"observation_start\",\n      \"properties\": {\n        \"dtype\": \"date\",\n        \"min\": \"1854-01-01 00:00:00\",\n        \"max\": \"2014-12-01 00:00:00\",\n        \"num_unique_values\": 117,\n        \"samples\": [\n          \"1900-01-01 00:00:00\"\n        ],\n        \"semantic_type\": \"\",\n        \"description\": \"\"\n      }\n    },\n    {\n      \"column\": \"observation_end\",\n      \"properties\": {\n        \"dtype\": \"date\",\n        \"min\": \"1865-11-25 00:00:00\",\n        \"max\": \"2024-11-29 00:00:00\",\n        \"num_unique_values\": 86,\n        \"samples\": [\n          \"2012-01-01 00:00:00\"\n        ],\n        \"semantic_type\": \"\",\n        \"description\": \"\"\n      }\n    },\n    {\n      \"column\": \"frequency\",\n      \"properties\": {\n        \"dtype\": \"category\",\n        \"num_unique_values\": 12,\n        \"samples\": [\n          \"Daily\"\n        ],\n        \"semantic_type\": \"\",\n        \"description\": \"\"\n      }\n    },\n    {\n      \"column\": \"frequency_short\",\n      \"properties\": {\n        \"dtype\": \"category\",\n        \"num_unique_values\": 6,\n        \"samples\": [\n          \"D\"\n        ],\n        \"semantic_type\": \"\",\n        \"description\": \"\"\n      }\n    },\n    {\n      \"column\": \"units\",\n      \"properties\": {\n        \"dtype\": \"category\",\n        \"num_unique_values\": 64,\n        \"samples\": [\n          \"Thousands of Metric Tons\"\n        ],\n        \"semantic_type\": \"\",\n        \"description\": \"\"\n      }\n    },\n    {\n      \"column\": \"units_short\",\n      \"properties\": {\n        \"dtype\": \"category\",\n        \"num_unique_values\": 66,\n        \"samples\": [\n          \"Mil. Of Bushels\"\n        ],\n        \"semantic_type\": \"\",\n        \"description\": \"\"\n      }\n    },\n    {\n      \"column\": \"seasonal_adjustment\",\n      \"properties\": {\n        \"dtype\": \"category\",\n        \"num_unique_values\": 3,\n        \"samples\": [\n          \"Not Seasonally Adjusted\"\n        ],\n        \"semantic_type\": \"\",\n        \"description\": \"\"\n      }\n    },\n    {\n      \"column\": \"seasonal_adjustment_short\",\n      \"properties\": {\n        \"dtype\": \"category\",\n        \"num_unique_values\": 3,\n        \"samples\": [\n          \"NSA\"\n        ],\n        \"semantic_type\": \"\",\n        \"description\": \"\"\n      }\n    },\n    {\n      \"column\": \"last_updated\",\n      \"properties\": {\n        \"dtype\": \"string\",\n        \"num_unique_values\": 577,\n        \"samples\": [\n          \"2024-11-26 08:12:33-06:00\"\n        ],\n        \"semantic_type\": \"\",\n        \"description\": \"\"\n      }\n    },\n    {\n      \"column\": \"popularity\",\n      \"properties\": {\n        \"dtype\": \"category\",\n        \"num_unique_values\": 67,\n        \"samples\": [\n          \"33\"\n        ],\n        \"semantic_type\": \"\",\n        \"description\": \"\"\n      }\n    },\n    {\n      \"column\": \"notes\",\n      \"properties\": {\n        \"dtype\": \"category\",\n        \"num_unique_values\": 190,\n        \"samples\": [\n          \"Source ID: pl_m  When using these data in your research, please make the following reference: Feenstra, Robert C., Robert Inklaar and Marcel P. Timmer (2015), \\\"The Next Generation of the Penn World Table\\\" American Economic Review, 105(10), 3150-3182, available for download at www.ggdc.net/pwt  For more information, see http://www.rug.nl/research/ggdc/data/pwt/.\"\n        ],\n        \"semantic_type\": \"\",\n        \"description\": \"\"\n      }\n    }\n  ]\n}"
            }
          },
          "metadata": {},
          "execution_count": 6
        }
      ]
    },
    {
      "cell_type": "markdown",
      "source": [
        "# 3. Pull Raw Data & Plot"
      ],
      "metadata": {
        "id": "QiQODsqIgqty"
      }
    },
    {
      "cell_type": "code",
      "source": [
        "sp500 = fred.get_series(series_id='SP500')\n",
        "sp500.plot(figsize=(10, 5), title='S&P 500', lw=2)\n",
        "plt.show()"
      ],
      "metadata": {
        "execution": {
          "iopub.status.busy": "2022-10-20T14:24:21.236666Z",
          "iopub.execute_input": "2022-10-20T14:24:21.237544Z",
          "iopub.status.idle": "2022-10-20T14:24:22.732091Z",
          "shell.execute_reply.started": "2022-10-20T14:24:21.23749Z",
          "shell.execute_reply": "2022-10-20T14:24:22.731417Z"
        },
        "trusted": true,
        "id": "El_WZVzqgqtz"
      },
      "execution_count": null,
      "outputs": []
    },
    {
      "cell_type": "markdown",
      "source": [
        "# 4. Pull and Join Multiple Data Series"
      ],
      "metadata": {
        "id": "bYydwuc0gqtz"
      }
    },
    {
      "cell_type": "code",
      "source": [
        "unemp_df = fred.search('unemployment rate state', filter=('frequency','Monthly'))\n",
        "unemp_df = unemp_df.query('seasonal_adjustment == \"Seasonally Adjusted\" and units == \"Percent\"')\n",
        "unemp_df = unemp_df.loc[unemp_df['title'].str.contains('Unemployment Rate')]"
      ],
      "metadata": {
        "execution": {
          "iopub.status.busy": "2022-10-20T14:24:51.950427Z",
          "iopub.execute_input": "2022-10-20T14:24:51.950733Z",
          "iopub.status.idle": "2022-10-20T14:24:54.261942Z",
          "shell.execute_reply.started": "2022-10-20T14:24:51.950703Z",
          "shell.execute_reply": "2022-10-20T14:24:54.261116Z"
        },
        "trusted": true,
        "id": "9IEi3EoZgqtz"
      },
      "execution_count": null,
      "outputs": []
    },
    {
      "cell_type": "code",
      "source": [
        "all_results = []\n",
        "\n",
        "for myid in unemp_df.index:\n",
        "    results = fred.get_series(myid)\n",
        "    results = results.to_frame(name=myid)\n",
        "    all_results.append(results)\n",
        "    time.sleep(0.1) # Don't request to fast and get blocked\n",
        "uemp_results = pd.concat(all_results, axis=1)"
      ],
      "metadata": {
        "execution": {
          "iopub.status.busy": "2022-10-20T14:24:58.1144Z",
          "iopub.execute_input": "2022-10-20T14:24:58.114688Z",
          "iopub.status.idle": "2022-10-20T14:26:09.995729Z",
          "shell.execute_reply.started": "2022-10-20T14:24:58.114657Z",
          "shell.execute_reply": "2022-10-20T14:26:09.994705Z"
        },
        "trusted": true,
        "id": "vNnGjIscgqt0"
      },
      "execution_count": null,
      "outputs": []
    },
    {
      "cell_type": "code",
      "source": [
        "cols_to_drop = []\n",
        "for i in uemp_results:\n",
        "    if len(i) > 4:\n",
        "        cols_to_drop.append(i)\n",
        "uemp_results = uemp_results.drop(columns = cols_to_drop, axis=1)"
      ],
      "metadata": {
        "execution": {
          "iopub.status.busy": "2022-10-20T14:26:40.544432Z",
          "iopub.execute_input": "2022-10-20T14:26:40.544717Z",
          "iopub.status.idle": "2022-10-20T14:26:40.555505Z",
          "shell.execute_reply.started": "2022-10-20T14:26:40.544688Z",
          "shell.execute_reply": "2022-10-20T14:26:40.554784Z"
        },
        "trusted": true,
        "id": "IaSfnWPFgqt0"
      },
      "execution_count": null,
      "outputs": []
    },
    {
      "cell_type": "code",
      "source": [
        "uemp_states = uemp_results.copy()  #.drop('UNRATE', axis=1)\n",
        "uemp_states = uemp_states.dropna()\n",
        "id_to_state = unemp_df['title'].str.replace('Unemployment Rate in ','').to_dict()\n",
        "uemp_states.columns = [id_to_state[c] for c in uemp_states.columns]"
      ],
      "metadata": {
        "execution": {
          "iopub.status.busy": "2022-10-20T14:27:38.639757Z",
          "iopub.execute_input": "2022-10-20T14:27:38.640799Z",
          "iopub.status.idle": "2022-10-20T14:27:38.651823Z",
          "shell.execute_reply.started": "2022-10-20T14:27:38.64075Z",
          "shell.execute_reply": "2022-10-20T14:27:38.650896Z"
        },
        "trusted": true,
        "id": "B16irzs0gqt1"
      },
      "execution_count": null,
      "outputs": []
    },
    {
      "cell_type": "code",
      "source": [
        "# Plot States Unemployment Rate\n",
        "px.line(uemp_states)"
      ],
      "metadata": {
        "execution": {
          "iopub.status.busy": "2022-10-20T14:27:41.110629Z",
          "iopub.execute_input": "2022-10-20T14:27:41.110919Z",
          "iopub.status.idle": "2022-10-20T14:27:43.326871Z",
          "shell.execute_reply.started": "2022-10-20T14:27:41.110889Z",
          "shell.execute_reply": "2022-10-20T14:27:43.325883Z"
        },
        "trusted": true,
        "id": "feJEccaXgqt1"
      },
      "execution_count": null,
      "outputs": []
    },
    {
      "cell_type": "markdown",
      "source": [
        "# Pull April 2020 Unemployment Rate Per State"
      ],
      "metadata": {
        "id": "rx88yBpBgqt2"
      }
    },
    {
      "cell_type": "code",
      "source": [
        "ax = uemp_states.loc[uemp_states.index == '2020-05-01'].T \\\n",
        "    .sort_values('2020-05-01') \\\n",
        "    .plot(kind='barh', figsize=(8, 12), width=0.7, edgecolor='black',\n",
        "          title='Unemployment Rate by State, May 2020')\n",
        "ax.legend().remove()\n",
        "ax.set_xlabel('% Unemployed')\n",
        "plt.show()"
      ],
      "metadata": {
        "execution": {
          "iopub.status.busy": "2022-10-20T14:29:14.501914Z",
          "iopub.execute_input": "2022-10-20T14:29:14.502202Z",
          "iopub.status.idle": "2022-10-20T14:29:15.300032Z",
          "shell.execute_reply.started": "2022-10-20T14:29:14.502173Z",
          "shell.execute_reply": "2022-10-20T14:29:15.29912Z"
        },
        "trusted": true,
        "id": "9XcxSKCYgqt2"
      },
      "execution_count": null,
      "outputs": []
    },
    {
      "cell_type": "markdown",
      "source": [
        "# Pull Participation Rate"
      ],
      "metadata": {
        "execution": {
          "iopub.status.busy": "2022-04-23T16:50:12.229185Z",
          "iopub.execute_input": "2022-04-23T16:50:12.22967Z",
          "iopub.status.idle": "2022-04-23T16:50:12.234535Z",
          "shell.execute_reply.started": "2022-04-23T16:50:12.229614Z",
          "shell.execute_reply": "2022-04-23T16:50:12.233888Z"
        },
        "id": "NeHxZVl-gqt2"
      }
    },
    {
      "cell_type": "code",
      "source": [
        "part_df = fred.search('participation rate state', filter=('frequency','Monthly'))\n",
        "part_df = part_df.query('seasonal_adjustment == \"Seasonally Adjusted\" and units == \"Percent\"')"
      ],
      "metadata": {
        "execution": {
          "iopub.status.busy": "2022-10-20T14:29:20.158007Z",
          "iopub.execute_input": "2022-10-20T14:29:20.158326Z",
          "iopub.status.idle": "2022-10-20T14:29:21.365266Z",
          "shell.execute_reply.started": "2022-10-20T14:29:20.158279Z",
          "shell.execute_reply": "2022-10-20T14:29:21.364254Z"
        },
        "trusted": true,
        "id": "5WapuBN5gqt3"
      },
      "execution_count": null,
      "outputs": []
    },
    {
      "cell_type": "code",
      "source": [
        "part_id_to_state = part_df['title'].str.replace('Labor Force Participation Rate for ','').to_dict()\n",
        "\n",
        "all_results = []\n",
        "\n",
        "for myid in part_df.index:\n",
        "    results = fred.get_series(myid)\n",
        "    results = results.to_frame(name=myid)\n",
        "    all_results.append(results)\n",
        "    time.sleep(0.1) # Don't request to fast and get blocked\n",
        "part_states = pd.concat(all_results, axis=1)\n",
        "part_states.columns = [part_id_to_state[c] for c in part_states.columns]"
      ],
      "metadata": {
        "execution": {
          "iopub.status.busy": "2022-10-20T14:29:22.590492Z",
          "iopub.execute_input": "2022-10-20T14:29:22.590802Z",
          "iopub.status.idle": "2022-10-20T14:30:55.180054Z",
          "shell.execute_reply.started": "2022-10-20T14:29:22.590766Z",
          "shell.execute_reply": "2022-10-20T14:30:55.179053Z"
        },
        "trusted": true,
        "id": "i6adicaRgqt3"
      },
      "execution_count": null,
      "outputs": []
    },
    {
      "cell_type": "markdown",
      "source": [
        "# Plot Unemployment vs Participation for each state!"
      ],
      "metadata": {
        "id": "gqZ_k4eHgqt3"
      }
    },
    {
      "cell_type": "code",
      "source": [
        "# Fix DC\n",
        "uemp_states = uemp_states.rename(columns={'the District of Columbia':'District Of Columbia'})"
      ],
      "metadata": {
        "execution": {
          "iopub.status.busy": "2022-10-20T14:30:57.554099Z",
          "iopub.execute_input": "2022-10-20T14:30:57.554512Z",
          "iopub.status.idle": "2022-10-20T14:30:57.561665Z",
          "shell.execute_reply.started": "2022-10-20T14:30:57.554466Z",
          "shell.execute_reply": "2022-10-20T14:30:57.560742Z"
        },
        "trusted": true,
        "id": "EnvnoEpegqt3"
      },
      "execution_count": null,
      "outputs": []
    },
    {
      "cell_type": "code",
      "source": [
        "fig, axs = plt.subplots(10, 5, figsize=(30, 30), sharex=True)\n",
        "axs = axs.flatten()\n",
        "\n",
        "i = 0\n",
        "for state in uemp_states.columns:\n",
        "    if state in [\"District Of Columbia\",\"Puerto Rico\"]:\n",
        "        continue\n",
        "    ax2 = axs[i].twinx()\n",
        "    uemp_states.query('index >= 2020 and index < 2022')[state] \\\n",
        "        .plot(ax=axs[i], label='Unemployment')\n",
        "    part_states.query('index >= 2020 and index < 2022')[state] \\\n",
        "        .plot(ax=ax2, label='Participation', color=color_pal[1])\n",
        "    ax2.grid(False)\n",
        "    axs[i].set_title(state)\n",
        "    i += 1\n",
        "plt.tight_layout()\n",
        "plt.show()"
      ],
      "metadata": {
        "execution": {
          "iopub.status.busy": "2022-10-20T14:31:58.707576Z",
          "iopub.execute_input": "2022-10-20T14:31:58.707875Z",
          "iopub.status.idle": "2022-10-20T14:32:27.137163Z",
          "shell.execute_reply.started": "2022-10-20T14:31:58.707835Z",
          "shell.execute_reply": "2022-10-20T14:32:27.136556Z"
        },
        "trusted": true,
        "id": "HRxlhT4Cgqt3"
      },
      "execution_count": null,
      "outputs": []
    },
    {
      "cell_type": "code",
      "source": [
        "state = 'California'\n",
        "fig, ax = plt.subplots(figsize=(10, 5), sharex=True)\n",
        "ax2 = ax.twinx()\n",
        "uemp_states2 = uemp_states.asfreq('MS')\n",
        "l1 = uemp_states2.query('index >= 2020 and index < 2022')[state] \\\n",
        "    .plot(ax=ax, label='Unemployment')\n",
        "l2 = part_states.dropna().query('index >= 2020 and index < 2022')[state] \\\n",
        "    .plot(ax=ax2, label='Participation', color=color_pal[1])\n",
        "ax2.grid(False)\n",
        "ax.set_title(state)\n",
        "fig.legend(labels=['Unemployment','Participation'])\n",
        "plt.show()"
      ],
      "metadata": {
        "execution": {
          "iopub.status.busy": "2022-10-20T14:41:28.259058Z",
          "iopub.execute_input": "2022-10-20T14:41:28.259356Z",
          "iopub.status.idle": "2022-10-20T14:41:28.668029Z",
          "shell.execute_reply.started": "2022-10-20T14:41:28.259303Z",
          "shell.execute_reply": "2022-10-20T14:41:28.667122Z"
        },
        "trusted": true,
        "id": "fUAyRo_hgqt3"
      },
      "execution_count": null,
      "outputs": []
    },
    {
      "cell_type": "markdown",
      "source": [
        "# The End\n",
        "\n",
        "Now you explore!"
      ],
      "metadata": {
        "id": "ddmhuahKgqt3"
      }
    }
  ]
}